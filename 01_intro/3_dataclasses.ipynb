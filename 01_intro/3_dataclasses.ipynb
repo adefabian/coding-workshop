{
 "cells": [
  {
   "metadata": {},
   "cell_type": "markdown",
   "source": [
    "# Dataclasses in Python\n",
    "\n",
    "Dataclasses, introduced in Python 3.7 (with a backport for 3.6), provide a decorator and functions for automatically adding generated special methods such as `__init__`, `__repr__`, and `__eq__` to user-defined classes.\n",
    "\n",
    "This makes them particularly handy for classes that are primarily used to store data with minimal boilerplate code.\n",
    "\n",
    "In this notebook, we will cover:\n",
    "1. **What are Dataclasses and Why Use Them**\n",
    "2. **Basic Usage of the `dataclass` Decorator**\n",
    "3. **Default Values and the `field` Function**\n",
    "4. **Generated Methods (`__init__`, `__repr__`, `__eq__`, etc.)**\n",
    "5. **Comparison and Ordering**\n",
    "6. **`frozen` Dataclasses (Immutable)**\n",
    "7. **Advanced Features (`asdict`, `astuple`, `replace`)**\n",
    "8. **Inheritance with Dataclasses**\n",
    "9. **Best Practices and Common Pitfalls**"
   ],
   "id": "cd352fd618cb7744"
  },
  {
   "metadata": {
    "ExecuteTime": {
     "end_time": "2025-01-26T20:04:27.167401Z",
     "start_time": "2025-01-26T20:04:27.165218Z"
    }
   },
   "cell_type": "code",
   "source": [
    "# Notebook Setup: If you are running Python version < 3.7, you can install the backport:\n",
    "# !pip install dataclasses\n",
    "\n",
    "from dataclasses import dataclass, field, asdict, astuple, replace\n",
    "from typing import List, Optional"
   ],
   "id": "56153de106c188e5",
   "outputs": [],
   "execution_count": 7
  },
  {
   "metadata": {},
   "cell_type": "markdown",
   "source": [
    "## 1. What are Dataclasses and Why Use Them\n",
    "\n",
    "- **Dataclasses** reduce boilerplate when creating classes that are primarily used to store data.\n",
    "- They automatically generate:\n",
    "- `__init__` methods\n",
    "- `__repr__` methods\n",
    "- `__eq__` (and optionally ordering methods)\n",
    "- They also allow for additional flexibility via the `field` function to handle default values and other customization.\n",
    "\n",
    "Example use cases:\n",
    "- Configuration objects\n",
    "- Entities in your application domain that mostly store values\n",
    "- Data transfer objects for your code to communicate between modules/services"
   ],
   "id": "cba71ec06d2f8ca2"
  },
  {
   "metadata": {
    "ExecuteTime": {
     "end_time": "2025-01-26T20:02:05.130949Z",
     "start_time": "2025-01-26T20:02:05.126256Z"
    }
   },
   "cell_type": "code",
   "source": [
    "# Normal Python class and see what it looks like:\n",
    "\n",
    "class RegularPerson:\n",
    "    def __init__(self, name: str, age: int):\n",
    "        self.name = name\n",
    "        self.age = age\n",
    "\n",
    "    def __repr__(self):\n",
    "        return f\"RegularPerson(name={self.name}, age={self.age})\"\n",
    "\n",
    "p1 = RegularPerson(\"Alice\", 30)\n",
    "p2 = RegularPerson(\"Bob\", 25)\n",
    "\n",
    "print(p1, p2)\n",
    "\n",
    "# We can see we had to define __init__ and __repr__ ourselves."
   ],
   "id": "e33d48307cf32c7c",
   "outputs": [
    {
     "name": "stdout",
     "output_type": "stream",
     "text": [
      "RegularPerson(name=Alice, age=30) RegularPerson(name=Bob, age=25)\n"
     ]
    }
   ],
   "execution_count": 1
  },
  {
   "metadata": {
    "ExecuteTime": {
     "end_time": "2025-01-26T20:02:37.802057Z",
     "start_time": "2025-01-26T20:02:37.798721Z"
    }
   },
   "cell_type": "code",
   "source": [
    "# Same class using a dataclass:\n",
    "\n",
    "@dataclass\n",
    "class Person:\n",
    "    name: str\n",
    "    age: int\n",
    "\n",
    "# We do not need to define __init__ or __repr__ by ourselves.\n",
    "# Dataclasses automatically do that for us.\n",
    "\n",
    "person1 = Person(name=\"Alice\", age=30)\n",
    "person2 = Person(name=\"Bob\", age=25)\n",
    "\n",
    "print(person1)\n",
    "print(person2)"
   ],
   "id": "924b55b6c0e5c5fb",
   "outputs": [
    {
     "name": "stdout",
     "output_type": "stream",
     "text": [
      "Person(name='Alice', age=30)\n",
      "Person(name='Bob', age=25)\n"
     ]
    }
   ],
   "execution_count": 3
  },
  {
   "metadata": {},
   "cell_type": "markdown",
   "source": [
    "**Observations**:\n",
    "- The `@dataclass` decorator automatically created an `__init__` and a `__repr__`.\n",
    "- With type annotations, `dataclass` can also provide extra checks and improvements with IDEs and tools.\n",
    "\n",
    "----\n",
    "\n",
    "## 2. Basic Usage of the `dataclass` Decorator\n",
    "\n",
    "The `dataclass` decorator has several important parameters we can adjust:\n",
    "- `init`: If `True` (default), the dataclass will generate an `__init__`.\n",
    "- `repr`: If `True` (default), the dataclass will generate a `__repr__`.\n",
    "- `eq`: If `True` (default), the dataclass will generate an `__eq__` method.\n",
    "- `order`: If `True`, it will generate `__lt__`, `__le__`, `__gt__`, and `__ge__`. (Note: `eq` must be `True` for `order=True` to make sense.)\n",
    "- `frozen`: If `True`, all fields become read-only after object initialization, making the dataclass immutable.\n",
    "\n",
    "We’ll look at more of these as we go along."
   ],
   "id": "ee0eaf5c000ea8a5"
  },
  {
   "metadata": {
    "ExecuteTime": {
     "end_time": "2025-01-26T20:03:19.362347Z",
     "start_time": "2025-01-26T20:03:19.358466Z"
    }
   },
   "cell_type": "code",
   "source": [
    "# Let's demonstrate how the eq and order parameters work.\n",
    "# We'll define a small dataclass to illustrate comparisons:\n",
    "\n",
    "@dataclass(eq=True, order=True)\n",
    "class Point:\n",
    "    x: float\n",
    "    y: float\n",
    "\n",
    "point1 = Point(1, 5)\n",
    "point2 = Point(1, 5)\n",
    "point3 = Point(2, 5)\n",
    "\n",
    "print(\"Equality check:\", point1 == point2)  # Should be True\n",
    "print(\"Less-than check:\", point1 < point3)  # Should be True because x=1 < x=2\n",
    "print(\"Greater-than check:\", point3 > point1)  # Should be True"
   ],
   "id": "bc0fd749c85b2217",
   "outputs": [
    {
     "name": "stdout",
     "output_type": "stream",
     "text": [
      "Equality check: True\n",
      "Less-than check: True\n",
      "Greater-than check: True\n"
     ]
    }
   ],
   "execution_count": 4
  },
  {
   "metadata": {},
   "cell_type": "markdown",
   "source": [
    "**Notes**:\n",
    "- By setting `order=True`, Python automatically creates ordering methods based on the fields in the order they are declared.\n",
    "- Compare that to a normal class, where we would have to implement these methods ourselves if we wanted custom ordering.\n",
    "\n",
    "----\n",
    "\n",
    "## 3. Default Values and the `field` Function\n",
    "\n",
    "### 3.1 Default Values\n",
    "\n",
    "Just like normal Python class attributes, we can set defaults for our fields by assigning them at class level."
   ],
   "id": "cbec88807e448acd"
  },
  {
   "metadata": {
    "ExecuteTime": {
     "end_time": "2025-01-26T20:03:56.449088Z",
     "start_time": "2025-01-26T20:03:56.445872Z"
    }
   },
   "cell_type": "code",
   "source": [
    "@dataclass\n",
    "class Book:\n",
    "    title: str\n",
    "    author: str\n",
    "    pages: int = 0  # default value for pages\n",
    "    published_year: int = 2023  # default value for published_year\n",
    "\n",
    "b1 = Book(\"The Great Gatsby\", \"F. Scott Fitzgerald\")\n",
    "b2 = Book(\"1984\", \"George Orwell\", 328, 1949)\n",
    "\n",
    "print(b1)\n",
    "print(b2)"
   ],
   "id": "e97fbd24f59c350",
   "outputs": [
    {
     "name": "stdout",
     "output_type": "stream",
     "text": [
      "Book(title='The Great Gatsby', author='F. Scott Fitzgerald', pages=0, published_year=2023)\n",
      "Book(title='1984', author='George Orwell', pages=328, published_year=1949)\n"
     ]
    }
   ],
   "execution_count": 5
  },
  {
   "metadata": {},
   "cell_type": "markdown",
   "source": [
    "### 3.2 The `field` Function\n",
    "Dataclasses provide a `field()` function that gives fine-grained control over how each field is handled.\n",
    "It can be used to specify:\n",
    "- a default value\n",
    "- a default factory (e.g., for mutable types like lists or dictionaries)\n",
    "- whether a field should be included or excluded in comparison and representation\n",
    "- metadata for additional info about the field\n",
    "\n",
    "**Important**: For mutable defaults (like lists, dicts), we must use `default_factory` instead of a direct default, to avoid unwanted behavior caused by sharing the same default instance across objects."
   ],
   "id": "351035f320100cfa"
  },
  {
   "metadata": {
    "ExecuteTime": {
     "end_time": "2025-01-26T20:04:32.213189Z",
     "start_time": "2025-01-26T20:04:32.209494Z"
    }
   },
   "cell_type": "code",
   "source": [
    "# We can also use metadata to store extra information about a field:\n",
    "\n",
    "@dataclass\n",
    "class Product:\n",
    "    name: str\n",
    "    price: float\n",
    "    currency: str = field(default=\"USD\", metadata={\"description\": \"Currency code\"})\n",
    "\n",
    "product = Product(\"Laptop\", 999.99)\n",
    "\n",
    "print(product)\n",
    "print(product.__dataclass_fields__['currency'].metadata)"
   ],
   "id": "9b19618c9f37695e",
   "outputs": [
    {
     "name": "stdout",
     "output_type": "stream",
     "text": [
      "Product(name='Laptop', price=999.99, currency='USD')\n",
      "{'description': 'Currency code'}\n"
     ]
    }
   ],
   "execution_count": 8
  },
  {
   "metadata": {},
   "cell_type": "markdown",
   "source": [
    "**Key takeaway**:\n",
    "- Use `default_factory` for mutable types.\n",
    "- Use `field` to configure how each field behaves for initialization, comparison, representation, etc.\n",
    "\n",
    "----\n",
    "\n",
    "## 4. Generated Methods\n",
    "\n",
    "When you use `@dataclass`, Python generates the following methods for you (unless disabled):\n",
    "- `__init__`\n",
    "- `__repr__`\n",
    "- `__eq__` (if `eq=True`)\n",
    "- `__hash__` (if `frozen=True` or the fields used in comparisons are hashable)\n",
    "- `__lt__`, `__le__`, `__gt__`, `__ge__` (if `order=True`)\n",
    "\n",
    "You can override these methods in your class manually if needed. If you do, dataclass generation for that method is disabled."
   ],
   "id": "ec145c5649a0f076"
  },
  {
   "metadata": {},
   "cell_type": "code",
   "source": [
    "@dataclass\n",
    "class Vehicle:\n",
    "    brand: str\n",
    "    model: str\n",
    "\n",
    "    # Let's override the __repr__ method to show a custom string\n",
    "    def __repr__(self):\n",
    "        return f\"Vehicle({self.brand} - {self.model})\"\n",
    "\n",
    "v = Vehicle(\"Toyota\", \"Corolla\")\n",
    "print(v)  # Notice how our custom __repr__ is used instead of the default dataclass version"
   ],
   "id": "d3a98ec7111a2be6",
   "outputs": [],
   "execution_count": null
  },
  {
   "metadata": {},
   "cell_type": "markdown",
   "source": [
    "----\n",
    "\n",
    "## 5. Comparison and Ordering\n",
    "\n",
    "We already discussed `eq` and `order` briefly.\n",
    "- `eq=True` adds `__eq__` to check if all fields are equal.\n",
    "- `order=True` adds all ordering methods based on the field definition order.\n",
    "\n",
    "**Remember**: If `eq=False`, then `order` must also be `False`.\n",
    "\n",
    "We showed an example with the `Point` class above demonstrating how these methods work."
   ],
   "id": "583aef3d3bf22d8"
  },
  {
   "metadata": {},
   "cell_type": "markdown",
   "source": [
    "## 6. Frozen Dataclasses (Immutability)\n",
    "\n",
    "If you set `frozen=True`, your dataclass becomes immutable:\n",
    "- Fields cannot be modified after initialization.\n",
    "- A frozen dataclass automatically gains a `__hash__` method, making them hashable if all their fields are hashable."
   ],
   "id": "f4fcd70f74a3479f"
  },
  {
   "metadata": {
    "ExecuteTime": {
     "end_time": "2025-01-26T20:05:03.556584Z",
     "start_time": "2025-01-26T20:05:03.543885Z"
    }
   },
   "cell_type": "code",
   "source": [
    "@dataclass(frozen=True)\n",
    "class ImmutablePoint:\n",
    "    x: float\n",
    "    y: float\n",
    "\n",
    "ip = ImmutablePoint(3.0, 4.0)\n",
    "print(ip)\n",
    "\n",
    "# Trying to modify ip.x will raise an exception:\n",
    "ip.x = 10.0\n"
   ],
   "id": "11fc18c409bf68e9",
   "outputs": [
    {
     "name": "stdout",
     "output_type": "stream",
     "text": [
      "ImmutablePoint(x=3.0, y=4.0)\n"
     ]
    },
    {
     "ename": "FrozenInstanceError",
     "evalue": "cannot assign to field 'x'",
     "output_type": "error",
     "traceback": [
      "\u001B[0;31m---------------------------------------------------------------------------\u001B[0m",
      "\u001B[0;31mFrozenInstanceError\u001B[0m                       Traceback (most recent call last)",
      "Cell \u001B[0;32mIn[9], line 10\u001B[0m\n\u001B[1;32m      7\u001B[0m \u001B[38;5;28mprint\u001B[39m(ip)\n\u001B[1;32m      9\u001B[0m \u001B[38;5;66;03m# Trying to modify ip.x will raise an exception:\u001B[39;00m\n\u001B[0;32m---> 10\u001B[0m \u001B[43mip\u001B[49m\u001B[38;5;241;43m.\u001B[39;49m\u001B[43mx\u001B[49m \u001B[38;5;241m=\u001B[39m \u001B[38;5;241m10.0\u001B[39m\n",
      "File \u001B[0;32m<string>:4\u001B[0m, in \u001B[0;36m__setattr__\u001B[0;34m(self, name, value)\u001B[0m\n",
      "\u001B[0;31mFrozenInstanceError\u001B[0m: cannot assign to field 'x'"
     ]
    }
   ],
   "execution_count": 9
  },
  {
   "metadata": {},
   "cell_type": "markdown",
   "source": [
    "**Why use frozen?**\n",
    "- Ensures objects cannot be modified after creation.\n",
    "- Useful in contexts where immutability is desired (e.g., functional style, concurrency, dictionary keys).\n",
    "\n",
    "----\n",
    "\n",
    "## 7. Advanced Features\n",
    "\n",
    "### 7.1 `asdict` and `astuple`\n",
    "- `asdict(obj)` converts a dataclass instance (and nested dataclasses) to a dictionary.\n",
    "- `astuple(obj)` converts a dataclass instance (and nested dataclasses) to a tuple."
   ],
   "id": "d73e785837090a08"
  },
  {
   "metadata": {},
   "cell_type": "code",
   "source": [
    "@dataclass\n",
    "class Address:\n",
    "    street: str\n",
    "    city: str\n",
    "\n",
    "@dataclass\n",
    "class Employee:\n",
    "    name: str\n",
    "    address: Address\n",
    "    salary: float\n",
    "\n",
    "emp = Employee(\"Carol\", Address(\"123 Main St\", \"Metropolis\"), 75000)\n",
    "\n",
    "print(\"Dictionary:\", asdict(emp))\n",
    "print(\"Tuple:\", astuple(emp))"
   ],
   "id": "a8110ca705eb7daf",
   "outputs": [],
   "execution_count": null
  },
  {
   "metadata": {},
   "cell_type": "markdown",
   "source": [
    "## 8. Inheritance with Dataclasses\n",
    "\n",
    "Dataclasses support inheritance. However, some considerations:\n",
    "- If a subclass is also a dataclass, it extends the base class’s fields and can define additional fields.\n",
    "- The default parameter values for `init` in the `dataclass` decorator can differ in subclasses.\n",
    "- If you inherit from a non-dataclass, that might cause some complications, but it’s still possible."
   ],
   "id": "d3cfba21a745c1ad"
  },
  {
   "metadata": {
    "ExecuteTime": {
     "end_time": "2025-01-26T20:05:31.811256Z",
     "start_time": "2025-01-26T20:05:31.807298Z"
    }
   },
   "cell_type": "code",
   "source": [
    "@dataclass\n",
    "class Animal:\n",
    "    name: str\n",
    "\n",
    "@dataclass\n",
    "class Dog(Animal):\n",
    "    breed: str\n",
    "    age: int\n",
    "\n",
    "dog = Dog(\"Rex\", \"Golden Retriever\", 5)\n",
    "print(dog)"
   ],
   "id": "6fffeade433c5165",
   "outputs": [
    {
     "name": "stdout",
     "output_type": "stream",
     "text": [
      "Dog(name='Rex', breed='Golden Retriever', age=5)\n"
     ]
    }
   ],
   "execution_count": 10
  },
  {
   "metadata": {},
   "cell_type": "markdown",
   "source": [
    "**Note**:\n",
    "- In the above example, `Animal` is a dataclass. `Dog` also uses the `@dataclass` decorator, so the fields from `Animal` (`name`) and from `Dog` (`breed`, `age`) are all included in the final class.\n",
    "\n",
    "----\n",
    "\n",
    "## 9. Best Practices and Common Pitfalls\n",
    "\n",
    "1. **Use `frozen=True` when immutability is beneficial**:\n",
    "- Minimizes bugs caused by unwanted state changes.\n",
    "- Provides built-in hashability if fields are hashable.\n",
    "\n",
    "2. **Use `default_factory` for mutable types**:\n",
    "    - Avoids shared references between instances.\n",
    "\n",
    "3. **Be mindful when combining `frozen=True` with other decorators**:\n",
    "    - For example, a property setter won’t work if the class is frozen.\n",
    "\n",
    "4. **Overriding generated methods**:\n",
    "- If you override `__init__`, `__repr__`, or `__eq__`, Dataclasses won’t generate them for you. Make sure you know what you’re doing.\n",
    "\n",
    "5. **`field(init=False)`**:\n",
    "- Fields that should not be passed to `__init__` (e.g., computed fields) can be excluded from the constructor.\n",
    "- Alternatively, you can calculate them in a `__post_init__` method.\n",
    "\n",
    "6. **Watch out for performance**:\n",
    "    - For large-scale or performance-critical code, generating a huge number of dataclasses might have overhead. However, generally, it’s not a big issue.\n",
    "\n",
    "7. **Dataclass vs NamedTuple**:\n",
    "- `NamedTuple` is immutably typed but can be less flexible than dataclasses (especially for customizing behavior or adding methods).\n",
    "- Dataclasses can have both mutable and immutable variants.\n",
    "\n",
    "**Summary**:\n",
    "- Dataclasses significantly reduce boilerplate.\n",
    "- Make sure to use the advanced features (`field`, `frozen`, `order`) wisely.\n",
    "- They are a powerful addition to Python for clean, maintainable code."
   ],
   "id": "62f275bb60f91eb5"
  }
 ],
 "metadata": {
  "kernelspec": {
   "display_name": "Python 3",
   "language": "python",
   "name": "python3"
  },
  "language_info": {
   "codemirror_mode": {
    "name": "ipython",
    "version": 2
   },
   "file_extension": ".py",
   "mimetype": "text/x-python",
   "name": "python",
   "nbconvert_exporter": "python",
   "pygments_lexer": "ipython2",
   "version": "2.7.6"
  }
 },
 "nbformat": 4,
 "nbformat_minor": 5
}
