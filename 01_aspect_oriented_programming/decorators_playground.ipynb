{
 "cells": [
  {
   "metadata": {},
   "cell_type": "markdown",
   "source": "# Decorators",
   "id": "7c37551aa2e43c40"
  },
  {
   "metadata": {},
   "cell_type": "markdown",
   "source": "In computing, aspect-oriented programming (AOP) is a programming paradigm that aims to increase modularity by allowing the separation of cross-cutting concerns. It does so by adding behavior to existing code (an advice) without modifying the code, instead separately specifying which code is modified via a \"pointcut\" specification, such as \"log all function calls when the function's name begins with 'set'\". This allows behaviors that are not central to the business logic (such as logging) to be added to a program without cluttering the code of core functions.",
   "id": "b7d513d0519fad76"
  },
  {
   "metadata": {},
   "cell_type": "markdown",
   "source": [
    "## Example\n",
    "Decorator provide a very useful method to add functionality to existing functions and classes.\n",
    "\n",
    "Decorators are functions that wrap other functions or classes. Decorators use the @ syntax to “attach” a decorator to a function or class."
   ],
   "id": "f65c1ce4d0709f28"
  },
  {
   "metadata": {
    "ExecuteTime": {
     "end_time": "2025-01-22T14:19:10.849342Z",
     "start_time": "2025-01-22T14:19:10.845981Z"
    }
   },
   "cell_type": "code",
   "outputs": [
    {
     "name": "stdout",
     "output_type": "stream",
     "text": [
      "Method used as function.\n"
     ]
    }
   ],
   "execution_count": 3,
   "source": [
    "# Example\n",
    "class C:\n",
    "    def func():\n",
    "        \"\"\"No self here.\"\"\"\n",
    "        print('Method used as function.')\n",
    "\n",
    "    func = staticmethod(func)\n",
    "\n",
    "c = C()\n",
    "c.func()"
   ],
   "id": "4e477b94722c338b"
  },
  {
   "metadata": {
    "ExecuteTime": {
     "end_time": "2025-01-22T14:19:08.541166Z",
     "start_time": "2025-01-22T14:19:08.536311Z"
    }
   },
   "cell_type": "code",
   "outputs": [
    {
     "name": "stdout",
     "output_type": "stream",
     "text": [
      "Method used as function.\n"
     ]
    }
   ],
   "execution_count": 2,
   "source": [
    "class C:\n",
    "    @staticmethod\n",
    "    def func():\n",
    "        \"\"\"No self here.\"\"\"\n",
    "        print('Method used as function.')\n",
    "\n",
    "c = C()\n",
    "c.func()"
   ],
   "id": "ae6b0f88ef852811"
  },
  {
   "metadata": {},
   "cell_type": "markdown",
   "source": [
    "## Closures\n",
    "We can use the concept of a closure for writing a function decorator.\n",
    "\n",
    "In Python, a closure is typically a function defined inside another function. This inner function grabs the objects defined in its enclosing scope and associates them with the inner function object itself. The resulting combination is called a closure.\n",
    "\n",
    "Closures are a common feature in functional programming languages. In Python, closures can be pretty useful because they allow you to create function-based decorators, which are powerful tools.\n",
    "\n",
    "Using this technique, we can create a function\n",
    "that takes a function as argument and returns a new function.\n",
    "\n",
    "\n",
    "\n",
    "The closure allows to access arguments of the outer\n",
    "function from within the inner function.\n",
    "\n"
   ],
   "id": "d07a70c57f18b346"
  },
  {
   "metadata": {
    "ExecuteTime": {
     "end_time": "2025-01-22T14:24:41.819878Z",
     "start_time": "2025-01-22T14:24:41.817162Z"
    }
   },
   "cell_type": "code",
   "source": [
    "def outer(outer_arg):\n",
    "    def inner(inner_arg):\n",
    "        return inner_arg + outer_arg\n",
    "    return inner\n",
    "\n",
    "new_func = outer(10)"
   ],
   "id": "4e1ad523eb2e0bc2",
   "outputs": [],
   "execution_count": 5
  },
  {
   "metadata": {
    "ExecuteTime": {
     "end_time": "2025-01-22T14:24:45.712326Z",
     "start_time": "2025-01-22T14:24:45.709077Z"
    }
   },
   "cell_type": "code",
   "source": "new_func",
   "id": "ffdb1bd0239a74bd",
   "outputs": [
    {
     "data": {
      "text/plain": [
       "<function __main__.outer.<locals>.inner(inner_arg)>"
      ]
     },
     "execution_count": 6,
     "metadata": {},
     "output_type": "execute_result"
    }
   ],
   "execution_count": 6
  },
  {
   "metadata": {
    "ExecuteTime": {
     "end_time": "2025-01-22T14:24:57.740996Z",
     "start_time": "2025-01-22T14:24:57.738687Z"
    }
   },
   "cell_type": "code",
   "source": "new_func(7)",
   "id": "38deae892354bd26",
   "outputs": [
    {
     "data": {
      "text/plain": [
       "17"
      ]
     },
     "execution_count": 7,
     "metadata": {},
     "output_type": "execute_result"
    }
   ],
   "execution_count": 7
  },
  {
   "metadata": {},
   "cell_type": "markdown",
   "source": [
    "How does the new function have\n",
    "access to this 10? It is stored in the attribute __closure__"
   ],
   "id": "3e30c80a454c83ce"
  },
  {
   "metadata": {
    "ExecuteTime": {
     "end_time": "2025-01-22T14:25:09.894086Z",
     "start_time": "2025-01-22T14:25:09.891801Z"
    }
   },
   "cell_type": "code",
   "source": "new_func.__closure__[0].cell_contents",
   "id": "dcb6032c832f0525",
   "outputs": [
    {
     "data": {
      "text/plain": [
       "10"
      ]
     },
     "execution_count": 8,
     "metadata": {},
     "output_type": "execute_result"
    }
   ],
   "execution_count": 8
  },
  {
   "metadata": {},
   "cell_type": "markdown",
   "source": "## Simple decorator",
   "id": "828f396d7b111f9a"
  },
  {
   "metadata": {
    "ExecuteTime": {
     "end_time": "2025-01-22T14:31:09.274562Z",
     "start_time": "2025-01-22T14:31:09.272381Z"
    }
   },
   "cell_type": "code",
   "source": [
    "def hello(func):\n",
    "    print('Hello')\n",
    "\n",
    "@hello\n",
    "def add(a, b):\n",
    "    return a + b"
   ],
   "id": "202f3fd013616044",
   "outputs": [
    {
     "name": "stdout",
     "output_type": "stream",
     "text": [
      "Hello\n"
     ]
    }
   ],
   "execution_count": 10
  },
  {
   "metadata": {
    "ExecuteTime": {
     "end_time": "2025-01-22T14:31:20.372784Z",
     "start_time": "2025-01-22T14:31:20.365870Z"
    }
   },
   "cell_type": "code",
   "source": "add(10, 20)",
   "id": "eb0bf21db4c5f640",
   "outputs": [
    {
     "ename": "TypeError",
     "evalue": "'NoneType' object is not callable",
     "output_type": "error",
     "traceback": [
      "\u001B[0;31m---------------------------------------------------------------------------\u001B[0m",
      "\u001B[0;31mTypeError\u001B[0m                                 Traceback (most recent call last)",
      "Cell \u001B[0;32mIn[11], line 1\u001B[0m\n\u001B[0;32m----> 1\u001B[0m \u001B[43madd\u001B[49m\u001B[43m(\u001B[49m\u001B[38;5;241;43m10\u001B[39;49m\u001B[43m,\u001B[49m\u001B[43m \u001B[49m\u001B[38;5;241;43m20\u001B[39;49m\u001B[43m)\u001B[49m\n",
      "\u001B[0;31mTypeError\u001B[0m: 'NoneType' object is not callable"
     ]
    }
   ],
   "execution_count": 11
  },
  {
   "metadata": {
    "ExecuteTime": {
     "end_time": "2025-01-22T14:32:04.537323Z",
     "start_time": "2025-01-22T14:32:04.533479Z"
    }
   },
   "cell_type": "code",
   "source": [
    "# this is wrong because this is essentially what we have written\n",
    "def add(a, b):\n",
    "    return a + b\n",
    "add = hello(add)"
   ],
   "id": "eedc8d80e26fa016",
   "outputs": [
    {
     "name": "stdout",
     "output_type": "stream",
     "text": [
      "Hello\n"
     ]
    }
   ],
   "execution_count": 12
  },
  {
   "metadata": {},
   "cell_type": "markdown",
   "source": "The correct way:",
   "id": "894739a71f50d47f"
  },
  {
   "metadata": {
    "ExecuteTime": {
     "end_time": "2025-01-22T14:33:03.560003Z",
     "start_time": "2025-01-22T14:33:03.556050Z"
    }
   },
   "cell_type": "code",
   "source": [
    "def hello(func):\n",
    "    \"\"\"Decorator function.\"\"\"\n",
    "    def call_func(*args, **kwargs):\n",
    "        \"\"\"Wrapper.\"\"\"\n",
    "        print('Hello')\n",
    "        # Call original function and return its result.\n",
    "        return func(*args, **kwargs)\n",
    "    # Return function defined in this scope.\n",
    "    return call_func\n",
    "\n",
    "@hello\n",
    "def add(a, b):\n",
    "    return a + b\n",
    "\n",
    "add(20, 300)"
   ],
   "id": "cb6781f2a2809675",
   "outputs": [
    {
     "name": "stdout",
     "output_type": "stream",
     "text": [
      "Hello\n"
     ]
    },
    {
     "data": {
      "text/plain": [
       "320"
      ]
     },
     "execution_count": 13,
     "metadata": {},
     "output_type": "execute_result"
    }
   ],
   "execution_count": 13
  },
  {
   "metadata": {},
   "cell_type": "markdown",
   "source": "### Problems with docstrings",
   "id": "d1b62983d184e801"
  },
  {
   "metadata": {
    "ExecuteTime": {
     "end_time": "2025-01-22T14:34:54.765365Z",
     "start_time": "2025-01-22T14:34:54.762002Z"
    }
   },
   "cell_type": "code",
   "source": [
    "def add(a, b):\n",
    "    \"\"\"Add two objects.\"\"\"\n",
    "    return a + b"
   ],
   "id": "6bb746deb54f196c",
   "outputs": [],
   "execution_count": 14
  },
  {
   "metadata": {
    "ExecuteTime": {
     "end_time": "2025-01-22T14:35:17.020065Z",
     "start_time": "2025-01-22T14:35:17.017142Z"
    }
   },
   "cell_type": "code",
   "source": [
    "# accessing docstrings\n",
    "add.__doc__"
   ],
   "id": "aec51b31d53dc10b",
   "outputs": [
    {
     "data": {
      "text/plain": [
       "'Add two objects.'"
      ]
     },
     "execution_count": 18,
     "metadata": {},
     "output_type": "execute_result"
    }
   ],
   "execution_count": 18
  },
  {
   "metadata": {
    "ExecuteTime": {
     "end_time": "2025-01-22T14:36:12.219436Z",
     "start_time": "2025-01-22T14:36:12.216665Z"
    }
   },
   "cell_type": "code",
   "source": [
    "@hello\n",
    "def add(a, b):\n",
    "    \"\"\"Add two objects.\"\"\"\n",
    "    return a + b\n",
    "\n",
    "add.__doc__"
   ],
   "id": "f5006da3c0d0456e",
   "outputs": [
    {
     "data": {
      "text/plain": [
       "'Takes a arbitrary number of positional and keyword arguments.'"
      ]
     },
     "execution_count": 19,
     "metadata": {},
     "output_type": "execute_result"
    }
   ],
   "execution_count": 19
  },
  {
   "metadata": {},
   "cell_type": "markdown",
   "source": "The docstring gets lost, best practice is to use functools wraps",
   "id": "82d7af37ad85e2aa"
  },
  {
   "metadata": {
    "ExecuteTime": {
     "end_time": "2025-01-22T14:41:18.911166Z",
     "start_time": "2025-01-22T14:41:18.905959Z"
    }
   },
   "cell_type": "code",
   "source": [
    "import functools\n",
    "\n",
    "def hello(func):\n",
    "    @functools.wraps(func)\n",
    "    def _hello(*args, **kwargs):\n",
    "        \"\"\"Wrapper.\"\"\"\n",
    "        print('Hello')\n",
    "        # Call original function and return its result.\n",
    "        return func(*args, **kwargs)\n",
    "    # Return function defined in this scope.\n",
    "    return _hello\n",
    "\n",
    "@hello\n",
    "def add(a, b):\n",
    "    \"\"\"Add two objects.\"\"\"\n",
    "    return a + b\n",
    "\n",
    "add.__doc__"
   ],
   "id": "8b3f23388287c72",
   "outputs": [
    {
     "data": {
      "text/plain": [
       "'Add two objects.'"
      ]
     },
     "execution_count": 21,
     "metadata": {},
     "output_type": "execute_result"
    }
   ],
   "execution_count": 21
  },
  {
   "metadata": {},
   "cell_type": "markdown",
   "source": "### Parameterized Decorators",
   "id": "5485aa1818cb147f"
  },
  {
   "metadata": {
    "ExecuteTime": {
     "end_time": "2025-01-22T15:14:36.830785Z",
     "start_time": "2025-01-22T15:14:36.827212Z"
    }
   },
   "cell_type": "code",
   "source": [
    "def say(text):\n",
    "    def _say(func):\n",
    "        @functools.wraps(func)\n",
    "        def call_func(*args, **kwargs):\n",
    "            \"\"\"Wrapper\"\"\"\n",
    "            print(text)\n",
    "            return func(*args, **kwargs)\n",
    "        return call_func\n",
    "    return _say\n",
    "\n",
    "@say('Hello')\n",
    "def add(a, b):\n",
    "    \"\"\"Add two objects.\"\"\"\n",
    "    return a, b\n",
    "\n",
    "\n",
    "add.__doc__\n"
   ],
   "id": "656160721119982f",
   "outputs": [
    {
     "data": {
      "text/plain": [
       "'Add two objects.'"
      ]
     },
     "execution_count": 23,
     "metadata": {},
     "output_type": "execute_result"
    }
   ],
   "execution_count": 23
  },
  {
   "metadata": {
    "ExecuteTime": {
     "end_time": "2025-01-22T15:15:03.450535Z",
     "start_time": "2025-01-22T15:15:03.446680Z"
    }
   },
   "cell_type": "code",
   "source": "add(10, 20)",
   "id": "ca1da3797477ca2c",
   "outputs": [
    {
     "name": "stdout",
     "output_type": "stream",
     "text": [
      "Hello\n"
     ]
    },
    {
     "data": {
      "text/plain": [
       "(10, 20)"
      ]
     },
     "execution_count": 24,
     "metadata": {},
     "output_type": "execute_result"
    }
   ],
   "execution_count": 24
  },
  {
   "metadata": {},
   "cell_type": "markdown",
   "source": "### Chaining decorators",
   "id": "d6b32a7f04cb5570"
  },
  {
   "metadata": {
    "ExecuteTime": {
     "end_time": "2025-01-22T15:15:45.389533Z",
     "start_time": "2025-01-22T15:15:45.386198Z"
    }
   },
   "cell_type": "code",
   "source": [
    "@say('A')\n",
    "@say('B')\n",
    "@hello\n",
    "def add(a, b):\n",
    "    return a, b\n",
    "\n",
    "add(10, 20)"
   ],
   "id": "15d0103fc678b246",
   "outputs": [
    {
     "name": "stdout",
     "output_type": "stream",
     "text": [
      "A\n",
      "B\n",
      "Hello\n"
     ]
    },
    {
     "data": {
      "text/plain": [
       "(10, 20)"
      ]
     },
     "execution_count": 25,
     "metadata": {},
     "output_type": "execute_result"
    }
   ],
   "execution_count": 25
  },
  {
   "metadata": {},
   "cell_type": "markdown",
   "source": [
    "### Callable Instances\n",
    "So far we used functions to write decorators. Actually, Python uses a callable. Often the terms function and callable\n",
    "are used interchangeable. Any object that reacts to an added pair of parenthesis (callable_name()) is callable.\n",
    "We can check if an object is callable:"
   ],
   "id": "7a8de5c4d4f8d6ff"
  },
  {
   "metadata": {
    "ExecuteTime": {
     "end_time": "2025-01-22T15:17:30.824055Z",
     "start_time": "2025-01-22T15:17:30.820423Z"
    }
   },
   "cell_type": "code",
   "source": [
    "from functools import wraps\n",
    "class Say:\n",
    "    def __init__(self, text):\n",
    "        self.text = text\n",
    "\n",
    "    def __call__(self, func):\n",
    "        @wraps(func)\n",
    "        def wrapper(*args, **kwargs):\n",
    "            print(self.text)\n",
    "            return func(*args, **kwargs)\n",
    "        return wrapper\n",
    "\n",
    "\n",
    "@Say('Hello')\n",
    "def add(a, b):\n",
    "    return a + b\n",
    "\n",
    "add(10, 20)"
   ],
   "id": "6ff63a6132273dab",
   "outputs": [
    {
     "name": "stdout",
     "output_type": "stream",
     "text": [
      "Hello\n"
     ]
    },
    {
     "data": {
      "text/plain": [
       "30"
      ]
     },
     "execution_count": 26,
     "metadata": {},
     "output_type": "execute_result"
    }
   ],
   "execution_count": 26
  },
  {
   "metadata": {},
   "cell_type": "code",
   "outputs": [],
   "execution_count": null,
   "source": "",
   "id": "1ff11f2300740443"
  }
 ],
 "metadata": {
  "kernelspec": {
   "display_name": "Python 3",
   "language": "python",
   "name": "python3"
  },
  "language_info": {
   "codemirror_mode": {
    "name": "ipython",
    "version": 2
   },
   "file_extension": ".py",
   "mimetype": "text/x-python",
   "name": "python",
   "nbconvert_exporter": "python",
   "pygments_lexer": "ipython2",
   "version": "2.7.6"
  }
 },
 "nbformat": 4,
 "nbformat_minor": 5
}
