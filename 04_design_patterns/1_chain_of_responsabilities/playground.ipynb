{
 "cells": [
  {
   "metadata": {},
   "cell_type": "markdown",
   "source": [
    "# [Chain of Responsibility Pattern in Python](https://refactoring.guru/design-patterns/chain-of-responsibility/python/example)\n",
    "\n",
    "## Introduction\n",
    "\n",
    "The **Chain of Responsibility (CoR)** is a behavioral design pattern that allows an object to pass a request along a chain of potential handlers until one of them handles the request. This pattern promotes **loose coupling** by keeping the sender and receiver of a request independent of each other.\n",
    "\n",
    "### Key Concepts\n",
    "\n",
    "- **Handler:** An interface defining a method to process requests and a reference to the next handler in the chain.\n",
    "- **Concrete Handler:** Implements the handler interface and decides either to process the request or pass it to the next handler.\n",
    "- **Client:** Initiates the request by sending it to the first handler in the chain.\n",
    "\n",
    "## When to Use Chain of Responsibility\n",
    "\n",
    "- To **decouple senders and receivers** of requests.\n",
    "- When adding new handlers should not affect existing ones.\n",
    "\n",
    "\n",
    "## Diagram\n",
    "\n",
    "![Chain of Responsibility Diagram](https://refactoring.guru/images/patterns/diagrams/chain-of-responsibility/structure.png)\n",
    "\n",
    "*Figure: Structure of Chain of Responsibility Pattern*\n"
   ],
   "id": "a61ad67086609d5f"
  },
  {
   "metadata": {
    "ExecuteTime": {
     "end_time": "2025-01-26T19:02:53.327854Z",
     "start_time": "2025-01-26T19:02:53.321646Z"
    }
   },
   "cell_type": "code",
   "source": [
    "from abc import ABC, abstractmethod\n",
    "from typing import List\n",
    "\n",
    "class Filter(ABC):\n",
    "    \"\"\"\n",
    "    The Filter interface declares a method for building the chain of filters.\n",
    "    It also declares a method for executing a request.\n",
    "    \"\"\"\n",
    "    @abstractmethod\n",
    "    def set_next(self, next_filter):\n",
    "        pass\n",
    "\n",
    "    @abstractmethod\n",
    "    def filter(self, data: List[int]) -> List[int]:\n",
    "        pass\n",
    "\n",
    "    @abstractmethod\n",
    "    def _filter(self,  data: List[int]) -> List[int]:\n",
    "        pass\n",
    "\n",
    "class AbstractFilter(Filter):\n",
    "    \"\"\"\n",
    "    The default chaining behavior can be implemented inside a base filter\n",
    "    class.\n",
    "    \"\"\"\n",
    "\n",
    "    _next_filter: Filter = None\n",
    "\n",
    "    def set_next(self, filter: Filter) -> Filter:\n",
    "        self._next_filter = filter\n",
    "        return filter\n",
    "\n",
    "    def filter(self, data: List[int]) -> List[int]:\n",
    "        result: List[int] = self._filter(data)\n",
    "        if self._next_filter:\n",
    "            return self._next_filter.filter(data)\n",
    "        return result\n",
    "\n",
    "    @abstractmethod\n",
    "    def _filter(self, data: List[int]) -> List[int]:\n",
    "        pass\n"
   ],
   "id": "49dcd589703ffe52",
   "outputs": [],
   "execution_count": 20
  },
  {
   "metadata": {
    "ExecuteTime": {
     "end_time": "2025-01-26T19:02:58.772392Z",
     "start_time": "2025-01-26T19:02:58.767770Z"
    }
   },
   "cell_type": "code",
   "source": [
    "class EvenFilter(AbstractFilter):\n",
    "    def _filter(self, data: List[int]) -> List[int]:\n",
    "        filtered_data = [num for num in data if num % 2 == 0]\n",
    "        print(f\"EvenFilter: {filtered_data}\")\n",
    "        return filtered_data\n",
    "\n",
    "class PositiveFilter(AbstractFilter):\n",
    "    def _filter(self, data: List[int]) -> List[int]:\n",
    "        filtered_data = [num for num in data if num > 0]\n",
    "        print(f\"PositiveFilter: {filtered_data}\")\n",
    "        return filtered_data\n",
    "\n",
    "class RangeFilter(AbstractFilter):\n",
    "    def __init__(self, min_value: int, max_value: int):\n",
    "        super().__init__()\n",
    "        self.min_value = min_value\n",
    "        self.max_value = max_value\n",
    "\n",
    "    def _filter(self, data: List[int]) -> List[int]:\n",
    "        filtered_data = [num for num in data if self.min_value <= num <= self.max_value]\n",
    "        print(f\"RangeFilter ({self.min_value}-{self.max_value}): {filtered_data}\")\n",
    "        return filtered_data"
   ],
   "id": "74b15298c4fd831a",
   "outputs": [],
   "execution_count": 21
  },
  {
   "metadata": {
    "ExecuteTime": {
     "end_time": "2025-01-26T19:03:07.316886Z",
     "start_time": "2025-01-26T19:03:07.313314Z"
    }
   },
   "cell_type": "code",
   "source": [
    "# Create filter instances\n",
    "even_filter = EvenFilter()\n",
    "positive_filter = PositiveFilter()\n",
    "range_filter = RangeFilter(10, 100)\n",
    "\n",
    "# Configure the chain: EvenFilter -> PositiveFilter -> RangeFilter\n",
    "even_filter.set_next(positive_filter).set_next(range_filter)"
   ],
   "id": "c4dd27058f1efe25",
   "outputs": [
    {
     "data": {
      "text/plain": [
       "<__main__.RangeFilter at 0x1066a7e90>"
      ]
     },
     "execution_count": 22,
     "metadata": {},
     "output_type": "execute_result"
    }
   ],
   "execution_count": 22
  },
  {
   "metadata": {
    "ExecuteTime": {
     "end_time": "2025-01-26T19:03:08.067002Z",
     "start_time": "2025-01-26T19:03:08.064970Z"
    }
   },
   "cell_type": "code",
   "source": [
    "data = [5, -2, 18, 7, 42, 150, -10, 0, 22, 99, 100, 101]\n",
    "\n",
    "\n",
    "filtered_data = even_filter.filter(data)# Example Data\n"
   ],
   "id": "39a6252b0117b320",
   "outputs": [
    {
     "name": "stdout",
     "output_type": "stream",
     "text": [
      "EvenFilter: [-2, 18, 42, 150, -10, 0, 22, 100]\n",
      "PositiveFilter: [5, 18, 7, 42, 150, 22, 99, 100, 101]\n",
      "RangeFilter (10-100): [18, 42, 22, 99, 100]\n"
     ]
    }
   ],
   "execution_count": 23
  },
  {
   "metadata": {},
   "cell_type": "code",
   "outputs": [],
   "execution_count": null,
   "source": "",
   "id": "c63295216bab4fb6"
  }
 ],
 "metadata": {
  "kernelspec": {
   "display_name": "Python 3",
   "language": "python",
   "name": "python3"
  },
  "language_info": {
   "codemirror_mode": {
    "name": "ipython",
    "version": 2
   },
   "file_extension": ".py",
   "mimetype": "text/x-python",
   "name": "python",
   "nbconvert_exporter": "python",
   "pygments_lexer": "ipython2",
   "version": "2.7.6"
  }
 },
 "nbformat": 4,
 "nbformat_minor": 5
}
