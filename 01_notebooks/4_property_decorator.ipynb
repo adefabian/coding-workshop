{
 "cells": [
  {
   "metadata": {},
   "cell_type": "markdown",
   "source": [
    "# The `@property` Decorator in Python\n",
    "\n",
    "**Overview:**\n",
    "- In Python, the `@property` decorator allows you to define methods in a class that behave like attributes.\n",
    "- This is often used for **encapsulation** (controlling access to, or validation of, an attribute).\n",
    "- It helps keep your code clean and readable while providing the flexibility to add logic behind attribute access.\n",
    "\n",
    "In this notebook, we will cover:\n",
    "1. What is `@property`?\n",
    "    2. Basic Usage\n",
    "3. Getters, Setters, and Deleters\n",
    "4. Practical Example\n",
    "5. Pitfalls and Best Practices\n",
    "6. When to Use `@property`"
   ],
   "id": "16b0575de01faf8a"
  },
  {
   "metadata": {},
   "cell_type": "markdown",
   "source": [
    "## 1. What is `@property`? <a id=\"what-is-property\"></a>\n",
    "\n",
    "- The `@property` decorator in Python transforms a method into a **getter** for a read-only attribute.\n",
    "- It allows you to access a method like it is a regular attribute (`obj.attribute` instead of `obj.method()`).\n",
    "- If needed, you can expand it with `@<property_name>.setter` and `@<property_name>.deleter` decorators to define **setter** and **deleter** behavior, respectively.\n",
    "\n",
    "**Why is this helpful?**\n",
    "- It provides a **clean** and **Pythonic** way to implement **encapsulation**.\n",
    "- Allows you to **change internal implementation** (e.g., adding validation or extra computation) without changing the external interface for your class.\n",
    "\n",
    "## 2. Basic Usage <a id=\"basic-usage\"></a>\n",
    "\n",
    "Below is a simple example showing how `@property` can be used to create a read-only property."
   ],
   "id": "c1dcf63fe4ef4103"
  },
  {
   "metadata": {
    "ExecuteTime": {
     "end_time": "2025-01-24T11:08:39.967796Z",
     "start_time": "2025-01-24T11:08:39.945990Z"
    }
   },
   "cell_type": "code",
   "source": [
    "class Circle:\n",
    "    def __init__(self, radius):\n",
    "        self._radius = radius  # convention: underscore prefix to indicate \"internal\" usage\n",
    "\n",
    "    @property\n",
    "    def radius(self):\n",
    "        \"\"\"\n",
    "        The radius property - read-only in this example.\n",
    "        \"\"\"\n",
    "        return self._radius\n",
    "\n",
    "# Usage\n",
    "c = Circle(5)\n",
    "print(\"Circle radius:\", c.radius)\n",
    "\n",
    "# Trying to set c.radius would fail because we haven't defined a setter\n",
    "c.radius = 10\n"
   ],
   "id": "4565d9fccd36b335",
   "outputs": [
    {
     "name": "stdout",
     "output_type": "stream",
     "text": [
      "Circle radius: 5\n"
     ]
    },
    {
     "ename": "AttributeError",
     "evalue": "property 'radius' of 'Circle' object has no setter",
     "output_type": "error",
     "traceback": [
      "\u001B[0;31m---------------------------------------------------------------------------\u001B[0m",
      "\u001B[0;31mAttributeError\u001B[0m                            Traceback (most recent call last)",
      "Cell \u001B[0;32mIn[6], line 17\u001B[0m\n\u001B[1;32m     14\u001B[0m \u001B[38;5;28mprint\u001B[39m(\u001B[38;5;124m\"\u001B[39m\u001B[38;5;124mCircle radius:\u001B[39m\u001B[38;5;124m\"\u001B[39m, c\u001B[38;5;241m.\u001B[39mradius)\n\u001B[1;32m     16\u001B[0m \u001B[38;5;66;03m# Trying to set c.radius would fail because we haven't defined a setter\u001B[39;00m\n\u001B[0;32m---> 17\u001B[0m \u001B[43mc\u001B[49m\u001B[38;5;241;43m.\u001B[39;49m\u001B[43mradius\u001B[49m \u001B[38;5;241m=\u001B[39m \u001B[38;5;241m10\u001B[39m\n",
      "\u001B[0;31mAttributeError\u001B[0m: property 'radius' of 'Circle' object has no setter"
     ]
    }
   ],
   "execution_count": 6
  },
  {
   "metadata": {},
   "cell_type": "markdown",
   "source": [
    "**Explanation**:\n",
    "- We store the radius internally in `self._radius`.\n",
    "- The `@property`-decorated `radius()` method turns into the *getter* for the attribute named `radius`.\n",
    "- Attempting to assign a value to `c.radius` fails with `AttributeError` because no setter is defined.\n",
    "\n",
    "---\n",
    "\n",
    "## 3. Getters, Setters, and Deleters <a id=\"getters-setters-and-deleters\"></a>\n",
    "\n",
    "If you need to **allow setting** or **deleting** an attribute, you can define additional methods on top of the property:\n",
    "\n",
    "- `@<property_name>.setter` for setting a value.\n",
    "- `@<property_name>.deleter` for deleting the attribute.\n",
    "\n",
    "**Syntax**:\n",
    "```python\n",
    "@property\n",
    "def name(self):\n",
    "    # getter logic\n",
    "\n",
    "@name.setter\n",
    "def name(self, value):\n",
    "    # setter logic\n",
    "\n",
    "@name.deleter\n",
    "def name(self):\n",
    "    # deleter logic"
   ],
   "id": "b2381bcdf96d9a81"
  },
  {
   "metadata": {
    "ExecuteTime": {
     "end_time": "2025-01-24T11:08:39.970411Z",
     "start_time": "2025-01-23T10:29:51.664990Z"
    }
   },
   "cell_type": "code",
   "source": [
    "class Person:\n",
    "    def __init__(self, name):\n",
    "        self._name = name\n",
    "\n",
    "    @property\n",
    "    def name(self):\n",
    "        \"\"\"\n",
    "        Getter for the 'name' property.\n",
    "        \"\"\"\n",
    "        print(\"Getting name...\")\n",
    "        return self._name\n",
    "\n",
    "    @name.setter\n",
    "    def name(self, new_name):\n",
    "        \"\"\"\n",
    "        Setter for the 'name' property.\n",
    "        Here, we can add validation or additional logic.\n",
    "        \"\"\"\n",
    "        print(\"Setting name...\")\n",
    "        if not new_name:\n",
    "            raise ValueError(\"Name cannot be empty!\")\n",
    "        self._name = new_name\n",
    "\n",
    "    @name.deleter\n",
    "    def name(self):\n",
    "        \"\"\"\n",
    "        Deleter for the 'name' property.\n",
    "        This is optional and rarely used in practice,\n",
    "        but can be handy for certain use cases.\n",
    "        \"\"\"\n",
    "        print(\"Deleting name...\")\n",
    "        del self._name\n",
    "\n",
    "# Usage:\n",
    "p = Person(\"Alice\")\n",
    "print(p.name)           # Calls the getter\n",
    "p.name = \"Bob\"          # Calls the setter\n",
    "print(p.name)\n",
    "\n",
    "# Let's try deleting the name:\n",
    "del p.name             # Calls the deleter\n",
    "# Now p._name no longer exists"
   ],
   "id": "b5afe9f6e5469f07",
   "outputs": [
    {
     "name": "stdout",
     "output_type": "stream",
     "text": [
      "Getting name...\n",
      "Alice\n",
      "Setting name...\n",
      "Getting name...\n",
      "Bob\n",
      "Deleting name...\n"
     ]
    }
   ],
   "execution_count": 3
  },
  {
   "metadata": {},
   "cell_type": "markdown",
   "source": [
    "**Notes**:\n",
    "- The `@<property_name>.setter` and `@<property_name>.deleter` decorator names must match the original `@property`-decorated method name.\n",
    "- These decorators implicitly handle the logic for `__get__`, `__set__`, and `__delete__` in Python’s descriptor protocol, giving you a clean interface.\n",
    "\n",
    "---\n",
    "\n",
    "## 4. Practical Example <a id=\"practical-example\"></a>\n",
    "\n",
    "Let’s illustrate with a more realistic example. Imagine we want a **Temperature** class that stores the temperature in Celsius internally but provides:\n",
    "    - A property `celsius` to get/set in Celsius.\n",
    "- A property `fahrenheit` to get/set in Fahrenheit.\n",
    "\n",
    "We can achieve this with two properties that reference the same internal state."
   ],
   "id": "666963ce14359be0"
  },
  {
   "metadata": {
    "ExecuteTime": {
     "end_time": "2025-01-24T11:08:39.981229Z",
     "start_time": "2025-01-23T10:31:11.557068Z"
    }
   },
   "cell_type": "code",
   "source": [
    "class Temperature:\n",
    "    def __init__(self, celsius=0.0):\n",
    "        # we'll store it internally as Celsius\n",
    "        self._celsius = celsius\n",
    "\n",
    "    @property\n",
    "    def celsius(self):\n",
    "        \"\"\"Get or set temperature in Celsius.\"\"\"\n",
    "        return self._celsius\n",
    "\n",
    "    @celsius.setter\n",
    "    def celsius(self, value):\n",
    "        print(\"Setting Celsius...\")\n",
    "        self._celsius = float(value)\n",
    "\n",
    "    @property\n",
    "    def fahrenheit(self):\n",
    "        \"\"\"Get or set temperature in Fahrenheit.\"\"\"\n",
    "        return (self._celsius * 9/5) + 32\n",
    "\n",
    "    @fahrenheit.setter\n",
    "    def fahrenheit(self, value):\n",
    "        print(\"Setting Fahrenheit...\")\n",
    "        # convert fahrenheit to celsius\n",
    "        self._celsius = (float(value) - 32) * 5/9\n",
    "\n",
    "# Usage:\n",
    "temp = Temperature()\n",
    "print(\"Initial Celsius:\", temp.celsius)       # 0.0\n",
    "print(\"Initial Fahrenheit:\", temp.fahrenheit) # 32.0\n",
    "\n",
    "temp.celsius = 100\n",
    "print(\"Fahrenheit after setting Celsius to 100:\", temp.fahrenheit)\n",
    "\n",
    "temp.fahrenheit = 32\n",
    "print(\"Celsius after setting Fahrenheit to 32:\", temp.celsius)"
   ],
   "id": "b91a861a6fb1bcb0",
   "outputs": [
    {
     "name": "stdout",
     "output_type": "stream",
     "text": [
      "Initial Celsius: 0.0\n",
      "Initial Fahrenheit: 32.0\n",
      "Setting Celsius...\n",
      "Fahrenheit after setting Celsius to 100: 212.0\n",
      "Setting Fahrenheit...\n",
      "Celsius after setting Fahrenheit to 32: 0.0\n"
     ]
    }
   ],
   "execution_count": 4
  },
  {
   "metadata": {},
   "cell_type": "markdown",
   "source": [
    "Here:\n",
    "- Setting `temp.celsius` changes the internal `_celsius` value.\n",
    "- Getting `temp.fahrenheit` calculates the value on the fly.\n",
    "- Setting `temp.fahrenheit` updates the internal `_celsius` accordingly.\n",
    "\n",
    "This is a powerful technique to keep your code DRY (Don’t Repeat Yourself) and keep a single source of truth (in this case, `_celsius`).\n",
    "\n",
    "---\n",
    "\n",
    "## 5. Pitfalls and Best Practices <a id=\"pitfalls-and-best-practices\"></a>\n",
    "\n",
    "1. **Don’t Overuse Properties**:\n",
    "- If your logic is more than a few lines or you have complex computations, consider using regular methods to keep your code more explicit.\n",
    "- Properties are best used for straightforward attribute-like access.\n",
    "\n",
    "2. **Avoid Side Effects in Getters**:\n",
    "- A property getter should ideally be simple and not cause unexpected behavior (e.g., network calls, writing to disk).\n",
    "- Surprising side effects can confuse users of your class.\n",
    "\n",
    "3. **Use an Internal Name Convention**:\n",
    "- It’s standard in Python to store the underlying value in an attribute with a leading underscore (e.g., `self._attribute`) when using properties.\n",
    "- This helps distinguish between the raw internal storage and the property accessor.\n",
    "\n",
    "4. **Be Consistent**:\n",
    "- If you define a property for one attribute in a class, consider doing it for all attributes that need logic or validation.\n",
    "- Keep your approach uniform and documented.\n",
    "\n",
    "5. **Don’t Break the User’s Expectations**:\n",
    "- If setting a property has complex or *expensive* effects, document it well so users aren’t surprised by performance hits or side effects.\n",
    "\n",
    "---\n",
    "\n",
    "## 6. When to Use `@property` <a id=\"when-to-use-property\"></a>\n",
    "\n",
    "- **Encapsulation / Validation**: When you need to ensure valid data (e.g., `name` must not be empty, `age` must be positive).\n",
    "- **Lazy Computation**: When the value can be computed on the fly and you’d like to retrieve it as if it’s an attribute.\n",
    "- **Read-Only Attributes**: When an attribute should not be set externally but still be readable (e.g., a computed property).\n",
    "\n",
    "**Key Benefit**:\n",
    "- You can start by defining a public attribute (`self.name = ...`). If you later need to add validation or computations, you can refactor that attribute into a property **without** changing the external interface. Existing code using `obj.name` continues to work seamlessly.\n"
   ],
   "id": "a311827536ecfcd6"
  },
  {
   "metadata": {
    "ExecuteTime": {
     "end_time": "2025-01-24T11:08:39.984011Z",
     "start_time": "2025-01-23T10:39:53.288407Z"
    }
   },
   "cell_type": "code",
   "source": [
    "\"\"\"\n",
    "Previous code:\n",
    "\n",
    "\n",
    "class Currency:\n",
    "    def __init__(self, units, cents):\n",
    "        self.units = units\n",
    "        self.cents = cents\n",
    "\n",
    "    # Currency implementation...\n",
    "\n",
    "\n",
    "Now, say that your requirements change, and you decide to store the total number of cents instead of the units and cents. Removing .units and .cents from your public API to use something like .total_cents could break the code of more than one user.\n",
    "\n",
    "\"\"\"\n",
    "\n",
    "CENTS_PER_UNIT = 100\n",
    "\n",
    "class Currency:\n",
    "    def __init__(self, units, cents):\n",
    "        self._total_cents = units * CENTS_PER_UNIT + cents\n",
    "\n",
    "    @property\n",
    "    def units(self):\n",
    "        return self._total_cents // CENTS_PER_UNIT\n",
    "\n",
    "    @units.setter\n",
    "    def units(self, value):\n",
    "        self._total_cents = self.cents + value * CENTS_PER_UNIT\n",
    "\n",
    "    @property\n",
    "    def cents(self):\n",
    "        return self._total_cents % CENTS_PER_UNIT\n",
    "\n",
    "    @cents.setter\n",
    "    def cents(self, value):\n",
    "        self._total_cents = self.units * CENTS_PER_UNIT + value\n",
    "\n",
    "    # Currency implementation..."
   ],
   "id": "22294505ac117921",
   "outputs": [],
   "execution_count": 5
  },
  {
   "metadata": {},
   "cell_type": "markdown",
   "source": [
    "\n",
    "---\n",
    "\n",
    "# Conclusion\n",
    "\n",
    "- The `@property` decorator is a pythonic way of adding **getter/setter** behavior to attributes without changing how the attribute is accessed externally.\n",
    "- It enhances code readability and maintains backward compatibility when behavior changes become necessary.\n",
    "- Use it judiciously to keep your classes organized, validated, and easy to maintain.\n",
    "\n",
    "**Further Reading**:\n",
    "- Python official docs on the [property](https://docs.python.org/3/library/functions.html#property) built-in function.\n",
    "- The [descriptor protocol](https://docs.python.org/3/howto/descriptor.html) for a deeper understanding of how properties work under the hood.\n",
    "\n",
    "---\n",
    "\n",
    "```python\n",
    "# Feel free to experiment with additional examples here!\n",
    "class Demo:\n",
    "    def __init__(self):\n",
    "        self._value = 0\n",
    "\n",
    "    @property\n",
    "    def value(self):\n",
    "        \"\"\"Example property.\"\"\"\n",
    "        return self._value\n",
    "\n",
    "    @value.setter\n",
    "    def value(self, v):\n",
    "        \"\"\"Example setter with validation.\"\"\"\n",
    "        if v < 0:\n",
    "            raise ValueError(\"Value cannot be negative.\")\n",
    "        self._value = v\n",
    "\n",
    "d = Demo()\n",
    "d.value = 10\n",
    "print(\"Demo value:\", d.value)\n",
    "\n",
    "# Let's try setting a negative value:\n",
    "try:\n",
    "    d.value = -5\n",
    "    print(\"Caught error:\", e)\n",
    "except ValueError as e:"
   ],
   "id": "6aa60268ba145897"
  },
  {
   "metadata": {},
   "cell_type": "code",
   "outputs": [],
   "execution_count": null,
   "source": "",
   "id": "bbc6f068147eb4c6"
  }
 ],
 "metadata": {
  "kernelspec": {
   "display_name": "Python 3",
   "language": "python",
   "name": "python3"
  },
  "language_info": {
   "codemirror_mode": {
    "name": "ipython",
    "version": 2
   },
   "file_extension": ".py",
   "mimetype": "text/x-python",
   "name": "python",
   "nbconvert_exporter": "python",
   "pygments_lexer": "ipython2",
   "version": "2.7.6"
  }
 },
 "nbformat": 4,
 "nbformat_minor": 5
}
