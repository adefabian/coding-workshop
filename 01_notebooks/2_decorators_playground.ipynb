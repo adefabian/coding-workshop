{
 "cells": [
  {
   "metadata": {},
   "cell_type": "markdown",
   "source": [
    "# Python Decorators\n",
    "\n",
    "Decorators are a powerful and expressive feature in Python that allow you to modify the behavior of functions or classes. They enable you to wrap another function to extend its behavior without permanently modifying it.\n",
    "\n",
    "1.\tUnderstanding Closures\n",
    "2.\tSimple Decorators\n",
    "3.\tDecorators with Callables\n",
    "4.\tParameterized Decorators\n",
    "5.\tCommon Use Cases\n",
    "6.\tBest Practices"
   ],
   "id": "7c37551aa2e43c40"
  },
  {
   "metadata": {},
   "cell_type": "markdown",
   "source": [
    "## 1. Understanding Closures\n",
    "\n",
    "Before diving into decorators, it’s essential to understand closures, as they form the foundation of how decorators work.\n",
    "\n",
    "### 1.1. What is a Closure?\n",
    "\n",
    "A closure is a function object that remembers values in enclosing scopes even if they are not present in memory. Closures allow the function to access those captured variables through the closure’s copies of the variables, maintaining their state between calls.\n",
    "\n",
    "### 1.2. Example of a Closure"
   ],
   "id": "3bf18b3694482e57"
  },
  {
   "metadata": {
    "ExecuteTime": {
     "end_time": "2025-01-26T15:34:45.095570Z",
     "start_time": "2025-01-26T15:34:45.092923Z"
    }
   },
   "cell_type": "code",
   "source": [
    "def outer_function(msg):\n",
    "    message = msg  # Enclosed variable\n",
    "\n",
    "    def inner_function():\n",
    "        print(message)  # Accessing enclosed variable\n",
    "\n",
    "    return inner_function  # Returning the inner function\n",
    "\n",
    "# Usage\n",
    "greet = outer_function(\"Hello, World!\")\n",
    "greet()  # Output: Hello, World!"
   ],
   "id": "e744f5103c5e4cb9",
   "outputs": [
    {
     "name": "stdout",
     "output_type": "stream",
     "text": [
      "Hello, World!\n"
     ]
    }
   ],
   "execution_count": 7
  },
  {
   "metadata": {
    "ExecuteTime": {
     "end_time": "2025-01-26T15:34:48.277147Z",
     "start_time": "2025-01-26T15:34:48.273279Z"
    }
   },
   "cell_type": "code",
   "source": "greet.__closure__[0].cell_contents",
   "id": "e98ef8666f7e2b03",
   "outputs": [
    {
     "data": {
      "text/plain": [
       "'Hello, World!'"
      ]
     },
     "execution_count": 8,
     "metadata": {},
     "output_type": "execute_result"
    }
   ],
   "execution_count": 8
  },
  {
   "metadata": {},
   "cell_type": "markdown",
   "source": [
    "Explanation:\n",
    "- outer_function defines a variable message and an inner_function that accesses message.\n",
    "- Even after outer_function has finished executing, inner_function retains access to message through the closure."
   ],
   "id": "2ed67a53cd0acada"
  },
  {
   "metadata": {},
   "cell_type": "markdown",
   "source": [
    "## 2. Simple Decorators\n",
    "\n",
    "Decorators are functions that modify the behavior of other functions. A simple decorator wraps a function, enhancing or altering its behavior without changing its core functionality."
   ],
   "id": "f65c1ce4d0709f28"
  },
  {
   "metadata": {},
   "cell_type": "markdown",
   "source": [
    "### 2.1. Creating a Simple Decorator\n",
    "\n",
    "Let’s create a decorator that prints messages before and after the execution of a function."
   ],
   "id": "e21e8c7086b3cdbd"
  },
  {
   "metadata": {
    "ExecuteTime": {
     "end_time": "2025-01-26T15:29:31.131326Z",
     "start_time": "2025-01-26T15:29:31.128535Z"
    }
   },
   "cell_type": "code",
   "source": [
    "def my_decorator(func):\n",
    "    def wrapper():\n",
    "        print(\"Before the function is called.\")\n",
    "        func()\n",
    "        print(\"After the function is called.\")\n",
    "    return wrapper\n",
    "\n",
    "@my_decorator\n",
    "def say_hello():\n",
    "    print(\"Hello!\")\n",
    "\n",
    "# Usage\n",
    "say_hello()"
   ],
   "id": "d6bb1405610168cc",
   "outputs": [
    {
     "name": "stdout",
     "output_type": "stream",
     "text": [
      "Before the function is called.\n",
      "Hello!\n",
      "After the function is called.\n"
     ]
    }
   ],
   "execution_count": 2
  },
  {
   "metadata": {},
   "cell_type": "markdown",
   "source": [
    "### 2.2. How It Works\n",
    "\n",
    "The @my_decorator syntax is syntactic sugar for:\n",
    "\n",
    "```python\n",
    "say_hello = my_decorator(say_hello)\n",
    "```\n",
    "\n",
    "- my_decorator takes say_hello as an argument and returns the wrapper function.\n",
    "- When say_hello() is called, it actually calls wrapper(), which adds behavior before and after the original say_hello function.\n",
    "\n"
   ],
   "id": "86a97637a5c4bf71"
  },
  {
   "metadata": {},
   "cell_type": "markdown",
   "source": [
    "## 3. Decorators with Callables\n",
    "\n",
    "While functions are the most common callables in Python, decorators can also be applied to classes or objects that implement the __call__ method. This allows for more complex and stateful decorators.\n",
    "\n",
    "### 3.1. Class-Based Decorators\n",
    "\n",
    "Creating decorators as classes can be beneficial when you need to maintain state or when the decorator requires multiple parameters."
   ],
   "id": "9428aa97ccb87d0a"
  },
  {
   "metadata": {
    "ExecuteTime": {
     "end_time": "2025-01-26T15:31:55.405911Z",
     "start_time": "2025-01-26T15:31:55.403015Z"
    }
   },
   "cell_type": "code",
   "source": [
    "class CountCalls:\n",
    "    def __init__(self, func):\n",
    "        self.func = func\n",
    "        self.num_calls = 0\n",
    "\n",
    "    def __call__(self, *args, **kwargs):\n",
    "        self.num_calls += 1\n",
    "        print(f\"Call {self.num_calls} of {self.func.__name__}\")\n",
    "        return self.func(*args, **kwargs)\n",
    "\n",
    "@CountCalls\n",
    "def say_hi():\n",
    "    print(\"Hi!\")\n",
    "\n",
    "# Usage\n",
    "say_hi()\n",
    "say_hi()"
   ],
   "id": "1100ca7079342497",
   "outputs": [
    {
     "name": "stdout",
     "output_type": "stream",
     "text": [
      "Call 1 of say_hi\n",
      "Hi!\n",
      "Call 2 of say_hi\n",
      "Hi!\n"
     ]
    }
   ],
   "execution_count": 4
  },
  {
   "metadata": {},
   "cell_type": "markdown",
   "source": [
    "### 3.2. How It Works\n",
    "\n",
    "- CountCalls is a class that takes a function func as an argument during initialization.\n",
    "- The __call__ method allows the class instance to be callable.\n",
    "- Each time say_hi() is called, the __call__ method increments num_calls and prints the call count before executing the original function.\n",
    "\n",
    "### 3.3. Benefits of Class-Based Decorators\n",
    "- State Maintenance: Easily keep track of state (e.g., number of calls).\n",
    "- Multiple Methods: Can include additional methods or attributes as needed.\n",
    "- Inheritance: Can inherit from other classes or mixins for extended functionality."
   ],
   "id": "f54865e1d89d763f"
  },
  {
   "metadata": {},
   "cell_type": "markdown",
   "source": [
    "## 4. Parameterized Decorators\n",
    "\n",
    "Sometimes, you might want your decorator to accept arguments. This requires an additional layer of function nesting, often referred to as a decorator factory.\n",
    "\n",
    "### 4.1. Creating a Parameterized Decorator\n",
    "\n",
    "Let’s create a decorator that repeats the execution of a function a specified number of times."
   ],
   "id": "d4673059187c13d2"
  },
  {
   "metadata": {
    "ExecuteTime": {
     "end_time": "2025-01-26T15:33:57.654987Z",
     "start_time": "2025-01-26T15:33:57.651837Z"
    }
   },
   "cell_type": "code",
   "source": [
    "def repeat(num_times):\n",
    "    def decorator_repeat(func):\n",
    "        def wrapper(*args, **kwargs):\n",
    "            for _ in range(num_times):\n",
    "                func(*args, **kwargs)\n",
    "        return wrapper\n",
    "    return decorator_repeat\n",
    "\n",
    "@repeat(num_times=3)\n",
    "def greet(name):\n",
    "    print(f\"Hello, {name}!\")\n",
    "\n",
    "# Usage\n",
    "greet(\"Alice\")"
   ],
   "id": "2a1e0af9ecdfc2bf",
   "outputs": [
    {
     "name": "stdout",
     "output_type": "stream",
     "text": [
      "Hello, Alice!\n",
      "Hello, Alice!\n",
      "Hello, Alice!\n"
     ]
    }
   ],
   "execution_count": 5
  },
  {
   "metadata": {},
   "cell_type": "markdown",
   "source": [
    "### 4.2. How It Works\n",
    "- repeat is a decorator factory that takes num_times as an argument and returns the actual decorator decorator_repeat.\n",
    "- decorator_repeat takes the function func to be decorated and returns the wrapper.\n",
    "- wrapper executes func num_times times."
   ],
   "id": "ac8c14fc41ebc9e9"
  },
  {
   "metadata": {},
   "cell_type": "markdown",
   "source": [
    "## 5. Common Use Cases and Best Practices\n",
    "1.\tLogging & Debugging: Automatically log function calls and returns.\n",
    "2.\tCaching (Memoization): Use decorators like functools.lru_cache to cache results of expensive functions.\n",
    "3.\tValidation: Validate arguments before passing them to the function.\n",
    "4.\tAuthorization: Restrict access based on roles or permissions.\n",
    "5.\tRate-Limiting: Throttle calls to certain functions (often combined with external libraries).\n",
    "\n",
    "#### Best Practices\n",
    "-\tAlways use functools.wraps to preserve metadata.\n",
    "-\tKeep decorator logic minimal and clear—avoid turning them into “black boxes.”\n",
    "-\tTest your decorators with different function signatures and ensure they handle special cases."
   ],
   "id": "801e5b5f96ccec72"
  },
  {
   "metadata": {},
   "cell_type": "markdown",
   "source": [
    "## 6. Best Practices\n",
    "\n",
    "When writing decorators, adhering to best practices ensures that your decorators are robust, maintainable, and compatible with other decorators and Python features.\n",
    "\n",
    "### 6.1. Use functools.wraps\n",
    "\n",
    "The functools.wraps decorator preserves the metadata of the original function, such as its name, docstring, and module. Without it, the decorated function’s metadata would be replaced by the wrapper’s.\n"
   ],
   "id": "50274eb34f7ea217"
  },
  {
   "metadata": {
    "ExecuteTime": {
     "end_time": "2025-01-26T15:38:22.096741Z",
     "start_time": "2025-01-26T15:38:22.093892Z"
    }
   },
   "cell_type": "code",
   "source": [
    "import functools\n",
    "\n",
    "def my_decorator(func):\n",
    "    @functools.wraps(func)\n",
    "    def wrapper(*args, **kwargs):\n",
    "        print(\"Decorator is running.\")\n",
    "        return func(*args, **kwargs)\n",
    "    return wrapper\n",
    "\n",
    "@my_decorator\n",
    "def say_hello():\n",
    "    \"\"\"Greets the user.\"\"\"\n",
    "    print(\"Hello!\")\n",
    "\n",
    "# Usage\n",
    "print(say_hello.__name__)  # Output: say_hello\n",
    "print(say_hello.__doc__)   # Output: Greets the user."
   ],
   "id": "bdfe2068a529e71b",
   "outputs": [
    {
     "name": "stdout",
     "output_type": "stream",
     "text": [
      "say_hello\n",
      "Greets the user.\n"
     ]
    }
   ],
   "execution_count": 9
  },
  {
   "metadata": {
    "ExecuteTime": {
     "end_time": "2025-01-26T15:39:12.491956Z",
     "start_time": "2025-01-26T15:39:12.489209Z"
    }
   },
   "cell_type": "code",
   "source": [
    "# Without functools.wraps:\n",
    "def my_decorator(func):\n",
    "    def wrapper(*args, **kwargs):\n",
    "        \"\"\"Wrapper docstring\"\"\"\n",
    "        print(\"Decorator is running.\")\n",
    "        return func(*args, **kwargs)\n",
    "    return wrapper\n",
    "\n",
    "@my_decorator\n",
    "def say_hello():\n",
    "    \"\"\"Greets the user.\"\"\"\n",
    "    print(\"Hello!\")\n",
    "\n",
    "print(say_hello.__name__)  # Output: wrapper\n",
    "print(say_hello.__doc__)   # Output: None"
   ],
   "id": "b5594eb10c30eb1b",
   "outputs": [
    {
     "name": "stdout",
     "output_type": "stream",
     "text": [
      "wrapper\n",
      "Wrapper docstring\n"
     ]
    }
   ],
   "execution_count": 11
  }
 ],
 "metadata": {
  "kernelspec": {
   "display_name": "Python 3",
   "language": "python",
   "name": "python3"
  },
  "language_info": {
   "codemirror_mode": {
    "name": "ipython",
    "version": 2
   },
   "file_extension": ".py",
   "mimetype": "text/x-python",
   "name": "python",
   "nbconvert_exporter": "python",
   "pygments_lexer": "ipython2",
   "version": "2.7.6"
  }
 },
 "nbformat": 4,
 "nbformat_minor": 5
}
